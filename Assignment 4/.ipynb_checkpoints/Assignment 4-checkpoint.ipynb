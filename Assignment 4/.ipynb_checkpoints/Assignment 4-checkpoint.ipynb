{
 "cells": [
  {
   "cell_type": "markdown",
   "id": "0cc5059e",
   "metadata": {},
   "source": [
    "### Question 1.\n",
    "#### Make a calculator using Python with Addition , Subtraction , Multiplication , Division and Power."
   ]
  },
  {
   "cell_type": "code",
   "execution_count": 1,
   "id": "c740fed5",
   "metadata": {},
   "outputs": [
    {
     "name": "stdout",
     "output_type": "stream",
     "text": [
      "Enter a First Number: 9\n",
      "Enter a Second Number: 9\n",
      "\n",
      "1: Addition '+' \n",
      "2: Subtraction '-' \n",
      "3: Multiplication '*' \n",
      "4: Division '/' \n",
      "5: Power '**' \n",
      "\n",
      "Enter the Operator Number: 3\n",
      "\n",
      "Your result is 81\n"
     ]
    }
   ],
   "source": [
    "firstNum = int(input(\"Enter a First Number: \"))\n",
    "\n",
    "secondNum = int(input(\"Enter a Second Number: \"))\n",
    "\n",
    "print(\"\\n1: Addition '+' \\n2: Subtraction '-' \\n3: Multiplication '*' \\n4: Division '/' \\n5: Power '**' \\n\")\n",
    "\n",
    "Operand = input(\"Enter the Operator Number: \")\n",
    "\n",
    "if Operand == \"1\":\n",
    "    result = firstNum + secondNum\n",
    "    print(f\"\\nYour result is {result}\")\n",
    "elif Operand == \"2\":\n",
    "    result = firstNum - secondNum\n",
    "    print(f\"\\nYour result is {result}\")\n",
    "elif Operand == \"3\":\n",
    "    result = firstNum * secondNum\n",
    "    print(f\"\\nYour result is {result}\")\n",
    "elif Operand == \"4\":\n",
    "    result = firstNum / secondNum\n",
    "    print(f\"\\nYour result is {result}\")\n",
    "elif Operand == \"5\":\n",
    "    result = firstNum ** secondNum\n",
    "    print(f\"\\nYour result is {result}\")"
   ]
  },
  {
   "cell_type": "markdown",
   "id": "6edac602",
   "metadata": {},
   "source": [
    "### Question 2. \n",
    "#### Write a program to check if there is any numeric value in list using for loop."
   ]
  },
  {
   "cell_type": "code",
   "execution_count": 2,
   "id": "e58e671d",
   "metadata": {
    "scrolled": true
   },
   "outputs": [
    {
     "name": "stdout",
     "output_type": "stream",
     "text": [
      "These are all Numeric Values in my List: [0, 1, 2, 4, 6, 9]\n"
     ]
    }
   ],
   "source": [
    "mainList = [4,6,2,9,\"Call\",\"frank\",1,0]\n",
    "\n",
    "numericValues = [x for x in range(0,10) if x in mainList]\n",
    "\n",
    "print(f\"These are all Numeric Values in my List: {numericValues}\")"
   ]
  },
  {
   "cell_type": "markdown",
   "id": "64a04f66",
   "metadata": {},
   "source": [
    "### Question 3.\n",
    "#### Write a Python script to add a key to a dictionary."
   ]
  },
  {
   "cell_type": "code",
   "execution_count": 3,
   "id": "7ef3445a",
   "metadata": {},
   "outputs": [
    {
     "name": "stdout",
     "output_type": "stream",
     "text": [
      "Enter the Book Category: Engineering\n",
      "Enter the Book Title: Intro to Basic Electronics\n",
      "{'Programming': 'Intro to Python', 'Engineering': 'Intro to Basic Electronics'}\n"
     ]
    }
   ],
   "source": [
    "DictionaryofBooks = {\"Programming\": \"Intro to Python\", }\n",
    "\n",
    "newDict = {}\n",
    "\n",
    "categoryOfbook = input(\"Enter the Book Category: \")\n",
    "\n",
    "titleOfbook  = input(\"Enter the Book Title: \")\n",
    "\n",
    "newDict[categoryOfbook] = titleOfbook\n",
    "\n",
    "DictionaryofBooks.update(newDict)\n",
    "\n",
    "print(DictionaryofBooks)"
   ]
  },
  {
   "cell_type": "markdown",
   "id": "074d9d6a",
   "metadata": {},
   "source": [
    "### Question 4. \n",
    "#### Write a Python program to sum all the numeric items in a dictionary."
   ]
  },
  {
   "cell_type": "code",
   "execution_count": 4,
   "id": "11a1f407",
   "metadata": {},
   "outputs": [
    {
     "name": "stdout",
     "output_type": "stream",
     "text": [
      "Sum of all the values in the Dictionary is: 326\n"
     ]
    }
   ],
   "source": [
    "dictofNumbers = {'a': 4,'b': 53,'c': 2,'d': 77,'e': 90, 'f': 100}\n",
    "\n",
    "sumof = 0\n",
    "\n",
    "for i in dictofNumbers.values():\n",
    "    \n",
    "    sumof +=  int(i)\n",
    "    \n",
    "print(f\"Sum of all the values in the Dictionary is: {sumof}\")"
   ]
  },
  {
   "cell_type": "markdown",
   "id": "f8b3fe0f",
   "metadata": {},
   "source": [
    "### Question 5.\n",
    "#### Write a program to identify duplicate values from list."
   ]
  },
  {
   "cell_type": "code",
   "execution_count": 5,
   "id": "87038571",
   "metadata": {},
   "outputs": [
    {
     "name": "stdout",
     "output_type": "stream",
     "text": [
      "Found the Duplicate: apple\n",
      "Found the Duplicate: raspberry\n",
      "List without the duplicates: ['apple', 'blackberry', 'raspberry', 'pineapple']\n"
     ]
    }
   ],
   "source": [
    "List = [\"apple\", \"blackberry\", \"raspberry\", \"pineapple\", \"apple\", \"raspberry\"]\n",
    "\n",
    "List1 = []\n",
    "\n",
    "for i in List:\n",
    "    \n",
    "    if i not in List1:\n",
    "        \n",
    "        List1.append(i)\n",
    "        \n",
    "    else:\n",
    "        \n",
    "        print(f\"Found the Duplicate: {i}\")\n",
    "        \n",
    "print(f\"List without the duplicates: {List1}\")"
   ]
  },
  {
   "cell_type": "markdown",
   "id": "683fe934",
   "metadata": {},
   "source": [
    "### Question 6.\n",
    "#### Write a Python script to check if a given key already exists in a dictionary"
   ]
  },
  {
   "cell_type": "code",
   "execution_count": 6,
   "id": "95a409e0",
   "metadata": {},
   "outputs": [
    {
     "name": "stdout",
     "output_type": "stream",
     "text": [
      "Enter the Category: Engineering\n",
      "Engineering: Entered Key is already present\n"
     ]
    }
   ],
   "source": [
    "dataofBooks = {'Programming': 'Intro to Python', 'Engineering': 'Intro to Basic Electronics'}\n",
    "\n",
    "categoryTocheck = input(\"Enter the Category: \")\n",
    "\n",
    "categoryTocheck = categoryTocheck.title()\n",
    "\n",
    "for key in dataofBooks.keys():\n",
    "    \n",
    "        if key == categoryTocheck:\n",
    "            \n",
    "            print(f\"{categoryTocheck}: Entered Key is already present\")"
   ]
  },
  {
   "cell_type": "code",
   "execution_count": null,
   "id": "cf1aeb91",
   "metadata": {},
   "outputs": [],
   "source": []
  }
 ],
 "metadata": {
  "kernelspec": {
   "display_name": "Python 3 (ipykernel)",
   "language": "python",
   "name": "python3"
  },
  "language_info": {
   "codemirror_mode": {
    "name": "ipython",
    "version": 3
   },
   "file_extension": ".py",
   "mimetype": "text/x-python",
   "name": "python",
   "nbconvert_exporter": "python",
   "pygments_lexer": "ipython3",
   "version": "3.8.12"
  }
 },
 "nbformat": 4,
 "nbformat_minor": 5
}
