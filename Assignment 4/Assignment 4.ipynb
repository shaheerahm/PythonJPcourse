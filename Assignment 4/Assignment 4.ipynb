{
 "cells": [
  {
   "cell_type": "markdown",
   "id": "defad1ab",
   "metadata": {},
   "source": [
    "### Question 1.\n",
    "#### Make a calculator using Python with Addition , Subtraction , Multiplication , Division and Power."
   ]
  },
  {
   "cell_type": "code",
   "execution_count": null,
   "id": "3475f719",
   "metadata": {},
   "outputs": [],
   "source": [
    "firstNum = int(input(\"Enter a First Number: \"))\n",
    "secondNum = int(input(\"Enter a Second Number: \"))\n",
    "print(\"\\n1: Addition '+' \\n2: Subtraction '-' \\n3: Multiplication '*' \\n4: Division '/' \\n5: Power '**' \\n\")\n",
    "Operand = input(\"Enter the Operator Number: \")\n",
    "if Operand == \"1\":\n",
    "    result = firstNum + secondNum\n",
    "    print(f\"\\nYour result is {result}\")\n",
    "elif Operand == \"2\":\n",
    "    result = firstNum - secondNum\n",
    "    print(f\"\\nYour result is {result}\")\n",
    "elif Operand == \"3\":\n",
    "    result = firstNum * secondNum\n",
    "    print(f\"\\nYour result is {result}\")\n",
    "elif Operand == \"4\":\n",
    "    result = firstNum / secondNum\n",
    "    print(f\"\\nYour result is {result}\")\n",
    "elif Operand == \"5\":\n",
    "    result = firstNum ** secondNum\n",
    "    print(f\"\\nYour result is {result}\")"
   ]
  },
  {
   "cell_type": "markdown",
   "id": "0978265d",
   "metadata": {},
   "source": [
    "### Question 2. \n",
    "#### Write a program to check if there is any numeric value in list using for loop."
   ]
  },
  {
   "cell_type": "code",
   "execution_count": null,
   "id": "7972600a",
   "metadata": {
    "scrolled": true
   },
   "outputs": [],
   "source": [
    "mainList = [4,6,53,23,\"Call\"]\n",
    "for i in mainList:\n",
    "    if i == range(0,1000):\n",
    "            print(i)"
   ]
  },
  {
   "cell_type": "markdown",
   "id": "e64369a6",
   "metadata": {},
   "source": [
    "### Question 3.\n",
    "#### Write a Python script to add a key to a dictionary."
   ]
  },
  {
   "cell_type": "code",
   "execution_count": null,
   "id": "5297c5a2",
   "metadata": {},
   "outputs": [],
   "source": [
    "bookType = input(\"Enter the Key for dictionary: \")\n",
    "bookName = input(\"Enter the Value for dictionary: \")\n",
    "DictionaryofBooks = {\"Programming\": \"Intro to Python\", }\n",
    "\n",
    "DictionaryofBooks[KeytoAdd] = bookName\n",
    "\n",
    "print(DictionaryofBooks)\n"
   ]
  },
  {
   "cell_type": "markdown",
   "id": "1cd9616c",
   "metadata": {},
   "source": [
    "### Question 4. \n",
    "#### Write a Python program to sum all the numeric items in a dictionary."
   ]
  },
  {
   "cell_type": "code",
   "execution_count": null,
   "id": "25f442eb",
   "metadata": {},
   "outputs": [],
   "source": []
  },
  {
   "cell_type": "markdown",
   "id": "cd153ce2",
   "metadata": {},
   "source": [
    "### Question 5.\n",
    "#### Write a program to identify duplicate values from list."
   ]
  },
  {
   "cell_type": "code",
   "execution_count": null,
   "id": "b0195942",
   "metadata": {},
   "outputs": [],
   "source": []
  },
  {
   "cell_type": "markdown",
   "id": "72c73bdd",
   "metadata": {},
   "source": [
    "### Question 6.\n",
    "#### Write a Python script to check if a given key already exists in a dictionary"
   ]
  },
  {
   "cell_type": "code",
   "execution_count": null,
   "id": "806d7a1b",
   "metadata": {},
   "outputs": [],
   "source": []
  }
 ],
 "metadata": {
  "kernelspec": {
   "display_name": "Python 3 (ipykernel)",
   "language": "python",
   "name": "python3"
  },
  "language_info": {
   "codemirror_mode": {
    "name": "ipython",
    "version": 3
   },
   "file_extension": ".py",
   "mimetype": "text/x-python",
   "name": "python",
   "nbconvert_exporter": "python",
   "pygments_lexer": "ipython3",
   "version": "3.8.12"
  }
 },
 "nbformat": 4,
 "nbformat_minor": 5
}
