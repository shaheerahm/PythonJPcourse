{
 "cells": [
  {
   "cell_type": "code",
   "execution_count": 1,
   "id": "47d41cd4",
   "metadata": {
    "scrolled": true
   },
   "outputs": [
    {
     "name": "stdout",
     "output_type": "stream",
     "text": [
      "Twinkle twinkle, little star,\n",
      "\tHow I wonder what you are!\n",
      "\t\tUp above the world so high,\n",
      "\t\tLike a diamond in the sky.\n",
      "Twinkle, twinkle, little star,\n",
      "\tHow I wonder what you are \n"
     ]
    }
   ],
   "source": [
    "# 1. Write a Python program to print the following string in a specific format (see theoutput).\n",
    "rhyme = \"Twinkle twinkle, little star,\\n\\tHow I wonder what you are!\\n\\t\\tUp above the world so high,\\n\\t\\tLike a diamond in the sky.\\nTwinkle, twinkle, little star,\\n\\tHow I wonder what you are \"\n",
    "print(rhyme)"
   ]
  },
  {
   "cell_type": "code",
   "execution_count": 2,
   "id": "69832492",
   "metadata": {},
   "outputs": [
    {
     "name": "stdout",
     "output_type": "stream",
     "text": [
      "Python version\n",
      "3.8.8 (default, Apr 13 2021, 15:08:03) [MSC v.1916 64 bit (AMD64)]\n"
     ]
    }
   ],
   "source": [
    "# 2. Write a Python program to get the Python version you are using.\n",
    "import sys\n",
    "print(\"Python version\")\n",
    "print(sys.version)"
   ]
  },
  {
   "cell_type": "code",
   "execution_count": 3,
   "id": "8d0824cc",
   "metadata": {
    "scrolled": true
   },
   "outputs": [
    {
     "name": "stdout",
     "output_type": "stream",
     "text": [
      "2021-10-22 15:50:57.243374\n"
     ]
    }
   ],
   "source": [
    "# 3. Write a Python program to display the current date and time.\n",
    "import datetime\n",
    "dateAndtime = datetime.datetime.now()\n",
    "print(f\"{dateAndtime}\")"
   ]
  },
  {
   "cell_type": "code",
   "execution_count": 208,
   "id": "34518974",
   "metadata": {},
   "outputs": [
    {
     "name": "stdout",
     "output_type": "stream",
     "text": [
      "Enter the Radius of the Circle to calculate Area. 10\n",
      "Radius = 10\n",
      "Area = 314.16\n"
     ]
    }
   ],
   "source": [
    "# 4. Write a Python program which accepts the radius of a circle from the user and computethe area.\n",
    "radiusOfcircle = int(input(\"Enter the Radius of the Circle to calculate Area. \"))\n",
    "areaOfcircle = 3.14159 *  radiusOfcircle ** 2\n",
    "print(\"Radius = \" + str(radiusOfcircle) + \"\\nArea = \" + str(round(areaOfcircle,2)))"
   ]
  },
  {
   "cell_type": "code",
   "execution_count": 3,
   "id": "566ba998",
   "metadata": {},
   "outputs": [
    {
     "name": "stdout",
     "output_type": "stream",
     "text": [
      "Enter First Name: shaheer\n",
      "Enter Last Name: ahmed\n",
      "reehahs demha\n"
     ]
    }
   ],
   "source": [
    "# 5. Write a Python program which accepts the user's first and last name \n",
    "#and print them inreverse order with a space between them.\n",
    "firstName = input(\"Enter First Name: \")\n",
    "lastName = input(\"Enter Last Name: \")\n",
    "reverseList = firstName[::-1] + \" \" + lastName[::-1]\n",
    "print (reverseList)"
   ]
  },
  {
   "cell_type": "code",
   "execution_count": 6,
   "id": "a7af8cf0",
   "metadata": {},
   "outputs": [
    {
     "name": "stdout",
     "output_type": "stream",
     "text": [
      "Enter a number: 55\n",
      "Enter a number: 85\n",
      "Sum of two numbers is 140\n"
     ]
    }
   ],
   "source": [
    "# 6. Write a python program which takes two inputs from user and print them addition.\n",
    "one = int(input(\"Enter a number: \"))\n",
    "two = int(input(\"Enter a number: \"))\n",
    "add = one + two\n",
    "print (\"Sum of two numbers is\",add)"
   ]
  },
  {
   "cell_type": "code",
   "execution_count": 7,
   "id": "9a3455cd",
   "metadata": {},
   "outputs": [
    {
     "name": "stdout",
     "output_type": "stream",
     "text": [
      "Enter the your English Marks: 96\n",
      "Enter the your Islamiat Marks: 76\n",
      "Enter the your Mathematics Marks: 86\n",
      "Enter the your Physics Marks: 86\n",
      "Enter the your Computer Marks: 66\n",
      "Your Final Grade is B\n"
     ]
    }
   ],
   "source": [
    "# 7. Write a program which takes 5 inputs from user for different subject’s marks, total it \n",
    "#and generate mark sheet using grades.\n",
    "English = int(input(\"Enter the your English Marks: \"))\n",
    "Islamiat = int(input(\"Enter the your Islamiat Marks: \"))\n",
    "Mathematics = int(input(\"Enter the your Mathematics Marks: \"))\n",
    "Physics = int(input(\"Enter the your Physics Marks: \"))\n",
    "Computer = int(input(\"Enter the your Computer Marks: \"))\n",
    "total = 500\n",
    "percentage = (English + Islamiat + Mathematics + Physics + Computer ) / total * 100 ;\n",
    "if percentage > 100 or percentage < 0:\n",
    "    print (\"Percentage out of range, Check Marks again.\");\n",
    "elif percentage <= 100 and percentage >= 93:\n",
    "    print (\"Your Final Grade is A\");\n",
    "elif percentage < 93 and percentage >= 85:\n",
    "    print (\"Your Final Grade is A-\");  \n",
    "elif percentage < 85 and percentage >= 77:\n",
    "    print (\"Your Final Grade is B\");    \n",
    "elif percentage < 77 and percentage >= 68:\n",
    "    print (\"Your Final Grade is B-\");   \n",
    "elif percentage < 68 and percentage >= 60:\n",
    "    print (\"Your Final Grade is C\");    \n",
    "elif percentage < 60 and percentage >= 50:\n",
    "    print (\"Your Final Grade is C-\");      \n",
    "elif percentage < 50 and percentage >= 45:\n",
    "    print (\"Your Final Grade is D\");     \n",
    "elif percentage < 45 and percentage >= 0:\n",
    "    print (\"Your Final Grade is F\");   "
   ]
  },
  {
   "cell_type": "code",
   "execution_count": 10,
   "id": "ab04e1ca",
   "metadata": {},
   "outputs": [
    {
     "name": "stdout",
     "output_type": "stream",
     "text": [
      "Enter a Random Number: 66\n",
      "66 is a EVEN\n"
     ]
    }
   ],
   "source": [
    "# 8. Write a program which take input from user and identify that the given number is even or odd?\n",
    "num = int(input(\"Enter a Random Number: \"))\n",
    "formula = num % 2      \n",
    "if formula == 0:\n",
    "        print(f\"{num} is a EVEN\")\n",
    "else:\n",
    "        print(f\"{num} is a ODD\")"
   ]
  },
  {
   "cell_type": "code",
   "execution_count": 11,
   "id": "3e876eab",
   "metadata": {},
   "outputs": [
    {
     "name": "stdout",
     "output_type": "stream",
     "text": [
      "5\n"
     ]
    }
   ],
   "source": [
    "# 9. Write a program which print the length of the list?\n",
    "list = [\"one\", \"two\", \"three\", \"four\", \"five\"]\n",
    "print(len(list))"
   ]
  },
  {
   "cell_type": "code",
   "execution_count": 248,
   "id": "721f5719",
   "metadata": {
    "scrolled": true
   },
   "outputs": [
    {
     "name": "stdout",
     "output_type": "stream",
     "text": [
      "1\n",
      "6\n",
      "13\n",
      "21\n",
      "29\n",
      "74\n",
      "118\n"
     ]
    }
   ],
   "source": [
    "# 10. Write a Python program to sum all the numeric items in a list?\n",
    "myList = [1, 5, 7, 8, 8, 45, 44]\n",
    "mysum = 0\n",
    "for add in myList:\n",
    "        mysum += add\n",
    "        print(mysum)"
   ]
  },
  {
   "cell_type": "code",
   "execution_count": 228,
   "id": "43903c1b",
   "metadata": {},
   "outputs": [
    {
     "name": "stdout",
     "output_type": "stream",
     "text": [
      "999\n"
     ]
    }
   ],
   "source": [
    "# 11. Write a Python program to get the largest number from a numeric list.\n",
    "list = [5, 7, 9, 33, 78, 899, 76, 999]\n",
    "largest_numer = max(list)\n",
    "print (largest_numer)"
   ]
  },
  {
   "cell_type": "code",
   "execution_count": 245,
   "id": "41c6e8df",
   "metadata": {},
   "outputs": [
    {
     "name": "stdout",
     "output_type": "stream",
     "text": [
      "1\n",
      "1\n",
      "2\n",
      "3\n",
      "5\n"
     ]
    }
   ],
   "source": [
    "# 12. Take a list, say for example this one:\n",
    "#   a = [1, 1, 2, 3, 5, 8, 13, 21, 34, 55, 89]\n",
    "#   Write a program that prints out all the elements of the list that are less than 5.\n",
    "mylist = [1, 1, 2, 3, 5, 8, 13, 21, 34, 55, 89]\n",
    "for i in range(len(mylist)):\n",
    "    if i < 5:\n",
    "        print(mylist[i])"
   ]
  }
 ],
 "metadata": {
  "kernelspec": {
   "display_name": "Python 3",
   "language": "python",
   "name": "python3"
  }, 
  "language_info": {
   "codemirror_mode": {
    "name": "ipython",
    "version": 3
   },
   "file_extension": ".py",
   "mimetype": "text/x-python",
   "name": "python",
   "nbconvert_exporter": "python",
   "pygments_lexer": "ipython3",
   "version": "3.8.8"
  }
 },
 "nbformat": 4,
 "nbformat_minor": 5
}
