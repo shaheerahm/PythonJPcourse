{
 "cells": [
  {
   "cell_type": "code",
   "execution_count": 12,
   "id": "a5d59290",
   "metadata": {
    "scrolled": true
   },
   "outputs": [
    {
     "name": "stdout",
     "output_type": "stream",
     "text": [
      "Twinkle twinkle, little star,\n",
      "\tHow I wonder what you are!\n",
      "\t\tUp above the world so high,\n",
      "\t\tLike a diamond in the sky.\n",
      "Twinkle, twinkle, little star,\n",
      "\tHow I wonder what you are \n"
     ]
    }
   ],
   "source": [
    "# 1. Write a Python program to print the following string in a specific format (see theoutput).\n",
    "rhyme = \"Twinkle twinkle, little star,\\n\\tHow I wonder what you are!\\n\\t\\tUp above the world so high,\\n\\t\\tLike a diamond in the sky.\\nTwinkle, twinkle, little star,\\n\\tHow I wonder what you are \"\n",
    "print(rhyme)"
   ]
  },
  {
   "cell_type": "code",
   "execution_count": 13,
   "id": "efacb840",
   "metadata": {
    "scrolled": true
   },
   "outputs": [
    {
     "name": "stdout",
     "output_type": "stream",
     "text": [
      "Python version\n",
      "3.8.8 (default, Apr 13 2021, 15:08:03) [MSC v.1916 64 bit (AMD64)]\n"
     ]
    }
   ],
   "source": [
    "# 2. Write a Python program to get the Python version you are using.\n",
    "import sys\n",
    "print(\"Python version\")\n",
    "print(sys.version)"
   ]
  },
  {
   "cell_type": "code",
   "execution_count": 98,
   "id": "be79e7c5",
   "metadata": {},
   "outputs": [
    {
     "name": "stdout",
     "output_type": "stream",
     "text": [
      "2021-10-21, time.struct_time(tm_year=2021, tm_mon=10, tm_mday=21, tm_hour=17, tm_min=35, tm_sec=55, tm_wday=3, tm_yday=294, tm_isdst=0)\n"
     ]
    }
   ],
   "source": [
    "# 3. Write a Python program to display the current date and time.\n",
    "from datetime import date \n",
    "import time\n",
    "date = date.today()\n",
    "time = time.localtime()\n",
    "\n",
    "print( str(date) + \", \" + str(time))"
   ]
  },
  {
   "cell_type": "code",
   "execution_count": 113,
   "id": "51d94844",
   "metadata": {},
   "outputs": [
    {
     "name": "stdout",
     "output_type": "stream",
     "text": [
      "Enter the Radius of the Circle to calculate Area. 18\n",
      "Radius = 18\n",
      "Area = 1017.88\n"
     ]
    }
   ],
   "source": [
    "# 4. Write a Python program which accepts the radius of a circle from the user and computethe area.\n",
    "radiusOfcircle = int(input(\"Enter the Radius of the Circle to calculate Area. \"))\n",
    "areaOfcircle = 3.14159 *  radiusOfcircle ** 2\n",
    "print(\"Radius = \" + str(radiusOfcircle) + \"\\nArea = \" + str(round(areaOfcircle,2)))"
   ]
  },
  {
   "cell_type": "code",
   "execution_count": 2,
   "id": "d802e634",
   "metadata": {},
   "outputs": [
    {
     "name": "stdout",
     "output_type": "stream",
     "text": [
      "Enter First Name: shaheer\n",
      "Enter Last Name: ahmed\n",
      "reehahs demha\n"
     ]
    }
   ],
   "source": [
    "# 5. Write a Python program which accepts the user's first and last name and print them inreverse order with a space between them.\n",
    "firstName = input(\"Enter First Name: \")\n",
    "lastName = input(\"Enter Last Name: \")\n",
    "reverse = firstName[::-1] + \" \" + lastName[::-1]\n",
    "print (reverse)"
   ]
  },
  {
   "cell_type": "code",
   "execution_count": 6,
   "id": "a3f0f7b1",
   "metadata": {},
   "outputs": [
    {
     "name": "stdout",
     "output_type": "stream",
     "text": [
      "Enter a number: 55\n",
      "Enter a number: 45\n",
      "100\n"
     ]
    }
   ],
   "source": [
    "# 6. Write a python program which takes two inputs from user and print them addition.\n",
    "one = int(input(\"Enter a number: \"))\n",
    "two = int(input(\"Enter a number: \"))\n",
    "add = one + two\n",
    "print (add)"
   ]
  },
  {
   "cell_type": "code",
   "execution_count": 16,
   "id": "26a42697",
   "metadata": {},
   "outputs": [
    {
     "name": "stdout",
     "output_type": "stream",
     "text": [
      "Enter the your English Marks: 95\n",
      "Enter the your Islamiat Marks: 85\n",
      "Enter the your Mathematics Marks: 99\n",
      "Enter the your Physics Marks: 89\n",
      "Enter the your Computer Marks: 99\n",
      "Grade A\n"
     ]
    }
   ],
   "source": [
    "# 7. Write a program which takes 5 inputs from user for different subject’s marks, total it and generate mark sheet using grades.\n",
    "English = int(input(\"Enter the your English Marks: \"))\n",
    "Islamiat = int(input(\"Enter the your Islamiat Marks: \"))\n",
    "Mathematics = int(input(\"Enter the your Mathematics Marks: \"))\n",
    "Physics = int(input(\"Enter the your Physics Marks: \"))\n",
    "Computer = int(input(\"Enter the your Computer Marks: \"))\n",
    "total = 500\n",
    "percentage = (English + Islamiat + Mathematics + Physics + Computer ) / total * 100 ;\n",
    "if percentage > 100 or percentage < 0:\n",
    "    print (\"Percentage out of range, Check Marks again.\");\n",
    "elif percentage <= 100 and percentage >= 93:\n",
    "    print (\"Grade A\");\n",
    "elif percentage < 93 and percentage >= 85:\n",
    "    print (\"Grade A-\");  \n",
    "elif percentage < 85 and percentage >= 77:\n",
    "    print (\"Grade B\");    \n",
    "elif percentage < 77 and percentage >= 68:\n",
    "    print (\"Grade B-\");   \n",
    "elif percentage < 68 and percentage >= 60:\n",
    "    print (\"Grade C\");    \n",
    "elif percentage < 60 and percentage >= 50:\n",
    "    print (\"Grade C-\");      \n",
    "elif percentage < 50 and percentage >= 45:\n",
    "    print (\"Grade D\");     \n",
    "elif percentage < 45 and percentage >= 0:\n",
    "    print (\"Grade F\");    "
   ]
  },
  {
   "cell_type": "code",
   "execution_count": null,
   "id": "6ffd7d21",
   "metadata": {},
   "outputs": [],
   "source": [
    "# 8. Write a program which take input from user and identify that the given number is even or odd?\n",
    "num = int(input(\"Enter a Random Number: \"))\n",
    "    "
   ]
  }
 ],
 "metadata": {
  "kernelspec": {
   "display_name": "Python 3",
   "language": "python",
   "name": "python3"
  },
  "language_info": {
   "codemirror_mode": {
    "name": "ipython",
    "version": 3
   },
   "file_extension": ".py",
   "mimetype": "text/x-python",
   "name": "python",
   "nbconvert_exporter": "python",
   "pygments_lexer": "ipython3",
   "version": "3.8.8"
  }
 },
 "nbformat": 4,
 "nbformat_minor": 5
}
