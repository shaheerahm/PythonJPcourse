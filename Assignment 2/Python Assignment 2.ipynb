{
 "cells": [
  {
   "cell_type": "code",
   "execution_count": 42,
   "id": "c73b210e",
   "metadata": {},
   "outputs": [
    {
     "name": "stdout",
     "output_type": "stream",
     "text": [
      "Grade A-\n"
     ]
    }
   ],
   "source": [
    "Eng = 92;\n",
    "Isl = 92; \n",
    "Maths = 92; \n",
    "total = 300;\n",
    "percentage = ((Eng + Isl + Maths) / total) * 100 ;\n",
    "if percentage > 100:\n",
    "    print (\"Percentage out of range.\");\n",
    "elif percentage <= 100 and percentage >= 93:\n",
    "    print (\"Grade A\");\n",
    "elif percentage < 93 and percentage >= 85:\n",
    "    print (\"Grade A-\");  \n",
    "elif percentage < 85 and percentage >= 77:\n",
    "    print (\"Grade B\");    \n",
    "elif percentage < 77 and percentage >= 68:\n",
    "    print (\"Grade B-\");   \n",
    "elif percentage < 68 and percentage >= 60:\n",
    "    print (\"Grade C\");    \n",
    "elif percentage < 60 and percentage >= 50:\n",
    "    print (\"Grade C-\");      \n",
    "elif percentage < 50 and percentage >= 45:\n",
    "    print (\"Grade D\");     \n",
    "elif percentage < 45 and percentage >= 0:\n",
    "    print (\"Grade F\");    \n",
    "elif percentage < 0:\n",
    "    print(\"Incorrect Percentage.\");\n",
    "    print(\"Shaheer Ahmed Abbasi\")"
   ]
  }
 ],
 "metadata": {
  "kernelspec": {
   "display_name": "Python 3",
   "language": "python",
   "name": "python3"
  },
  "language_info": {
   "codemirror_mode": {
    "name": "ipython",
    "version": 3
   },
   "file_extension": ".py",
   "mimetype": "text/x-python",
   "name": "python",
   "nbconvert_exporter": "python",
   "pygments_lexer": "ipython3",
   "version": "3.8.8"
  }
 },
 "nbformat": 4,
 "nbformat_minor": 5
}
